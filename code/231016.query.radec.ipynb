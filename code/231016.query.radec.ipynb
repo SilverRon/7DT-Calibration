{
 "cells": [
  {
   "cell_type": "code",
   "execution_count": 13,
   "metadata": {},
   "outputs": [],
   "source": [
    "from astroquery.simbad import Simbad\n",
    "\n",
    "def get_ra_dec(object_name):\n",
    "    result_table = Simbad.query_object(object_name)\n",
    "    ra = result_table['RA'].data[0]  # RA in h:m:s format\n",
    "    dec = result_table['DEC'].data[0]  # DEC in d:m:s format\n",
    "    \n",
    "    # RA, Dec을 degree로 변환하려면 astropy.coordinates를 사용할 수 있습니다.\n",
    "    from astropy.coordinates import SkyCoord\n",
    "    import astropy.units as u\n",
    "\n",
    "    c = SkyCoord(ra=ra, dec=dec, unit=(u.hourangle, u.deg))\n",
    "    ra_deg = c.ra.deg\n",
    "    dec_deg = c.dec.deg\n",
    "    \n",
    "    # print(f\"RA (degree): {ra_deg}, Dec (degree): {dec_deg}\")\n",
    "    return ra_deg, dec_deg\n",
    "\n",
    "# 예시 사용법\n",
    "# get_ra_dec(\"NGC0253\")"
   ]
  },
  {
   "cell_type": "code",
   "execution_count": 14,
   "metadata": {},
   "outputs": [],
   "source": [
    "tnamelist = [\n",
    "\t'NGC0253',\n",
    "\t'NGC7293',\n",
    "\t'LTT1020',\n",
    "\t'NGC1097',\n",
    "\t'NGC6514',\n",
    "\t'Feige110',\n",
    "\t'NGC7469',\n",
    "\t'NGC1566',\n",
    "\t'NGC1980',\n",
    "\t'NGC1990',\n",
    "\t'LTT7987',\n",
    "\t'LTT9491',\n",
    "]"
   ]
  },
  {
   "cell_type": "code",
   "execution_count": 15,
   "metadata": {},
   "outputs": [],
   "source": [
    "nn = 0\n",
    "tname = tnamelist[nn]"
   ]
  },
  {
   "cell_type": "code",
   "execution_count": 16,
   "metadata": {},
   "outputs": [
    {
     "name": "stdout",
     "output_type": "stream",
     "text": [
      "NGC0253 11.888 -25.289\n",
      "NGC7293 337.411 -20.837\n",
      "LTT1020 28.709 -27.477\n",
      "NGC1097 41.579 -30.275\n",
      "NGC6514 270.675 -22.972\n",
      "Feige110 349.993 -5.166\n",
      "NGC7469 345.815 8.874\n",
      "NGC1566 65.002 -54.938\n",
      "NGC1980 83.810 -5.924\n",
      "NGC1990 83.750 -1.700\n",
      "LTT7987 302.737 -30.219\n",
      "LTT9491 349.897 -17.091\n"
     ]
    }
   ],
   "source": [
    "for tname in tnamelist:\n",
    "\tradeg, decdeg = get_ra_dec(tname)\n",
    "\tprint(f\"{tname} {radeg:.3f} {decdeg:.3f}\")"
   ]
  }
 ],
 "metadata": {
  "kernelspec": {
   "display_name": "sdt",
   "language": "python",
   "name": "python3"
  },
  "language_info": {
   "codemirror_mode": {
    "name": "ipython",
    "version": 3
   },
   "file_extension": ".py",
   "mimetype": "text/x-python",
   "name": "python",
   "nbconvert_exporter": "python",
   "pygments_lexer": "ipython3",
   "version": "3.11.0"
  }
 },
 "nbformat": 4,
 "nbformat_minor": 2
}
